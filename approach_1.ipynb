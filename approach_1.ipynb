{
 "cells": [
  {
   "cell_type": "markdown",
   "metadata": {},
   "source": [
    "# Importing necessary modules"
   ]
  },
  {
   "cell_type": "code",
   "execution_count": 1,
   "metadata": {
    "collapsed": true
   },
   "outputs": [],
   "source": [
    "import pandas as pd\n",
    "import numpy as np\n",
    "from sklearn.model_selection import train_test_split\n",
    "from sklearn.utils import shuffle\n",
    "from sklearn import preprocessing\n",
    "import matplotlib.pyplot as plt\n",
    "from sklearn.model_selection import StratifiedShuffleSplit\n",
    "from sklearn.preprocessing import MinMaxScaler, StandardScaler\n",
    "from sklearn.model_selection import KFold\n",
    "import lightgbm as lgb\n",
    "\n",
    "from sklearn.model_selection import cross_val_score\n",
    "%matplotlib inline  "
   ]
  },
  {
   "cell_type": "markdown",
   "metadata": {},
   "source": [
    "# Reading Datasets"
   ]
  },
  {
   "cell_type": "code",
   "execution_count": 2,
   "metadata": {
    "collapsed": true
   },
   "outputs": [],
   "source": [
    "source = 'input/'\n",
    "df = {'ar':pd.read_csv(source+'air_reserve.csv'),\n",
    "        'ar_i':pd.read_csv(source+'air_store_info_modif.csv'),\n",
    "        'train':pd.read_csv(source+'air_visit_data_with_weather.csv'),\n",
    "        'date_info':pd.read_csv(source+'date_info.csv'),\n",
    "        'hr':pd.read_csv(source+'hpg_reserve.csv'),\n",
    "        'hr_i':pd.read_csv(source+'hpg_store_info.csv'),\n",
    "        'test':pd.read_csv(source+'sample_submission_with_weather.csv'),\n",
    "        'rel':pd.read_csv(source+'store_id_relation.csv')}"
   ]
  },
  {
   "cell_type": "code",
   "execution_count": 3,
   "metadata": {
    "collapsed": true
   },
   "outputs": [],
   "source": [
    "df['date_info'].loc[((df['date_info'].day_of_week=='Saturday') | (df['date_info'].day_of_week=='Sunday'))&(df['date_info'].free_period==0),'free_period']=2"
   ]
  },
  {
   "cell_type": "code",
   "execution_count": 4,
   "metadata": {
    "collapsed": true
   },
   "outputs": [],
   "source": [
    "df['test']['visit_date'] = df['test']['id'].map(lambda x: str(x).split('_')[2])\n",
    "df['test']['air_store_id'] = df['test']['id'].map(lambda x: '_'.join(x.split('_')[:2]))"
   ]
  },
  {
   "cell_type": "code",
   "execution_count": 5,
   "metadata": {
    "collapsed": true
   },
   "outputs": [],
   "source": [
    "df['hr']=df['hr'].join(df['rel'].set_index('hpg_store_id'), on = 'hpg_store_id').dropna(how='any')\n",
    "df['hr_i']=df['hr_i'].join(df['rel'].set_index('hpg_store_id'), on = 'hpg_store_id').dropna(how='any')\n",
    "\n",
    "df['hr'] = df['hr'].drop('hpg_store_id',axis=1)\n",
    "df['hr']=df['hr'].set_index('air_store_id').reset_index()\n",
    "\n",
    "df['hr_i'] = df['hr_i'].drop('hpg_store_id',axis=1)\n",
    "df['hr_i']=df['hr_i'].set_index('air_store_id').reset_index()"
   ]
  },
  {
   "cell_type": "markdown",
   "metadata": {},
   "source": [
    "# Working with Dates "
   ]
  },
  {
   "cell_type": "markdown",
   "metadata": {
    "collapsed": true
   },
   "source": [
    "df['date_info']['golden_week']=0\n",
    "\n",
    "df['date_info'].loc[( (pd.to_datetime(df['date_info']['calendar_date'])>pd.to_datetime('2016-04-28')) & (pd.to_datetime(df['date_info']['calendar_date'])<pd.to_datetime('2016-05-06')) ),'golden_week']=1\n",
    "df['date_info'].loc[( (pd.to_datetime(df['date_info']['calendar_date'])>pd.to_datetime('2017-04-28')) & (pd.to_datetime(df['date_info']['calendar_date'])<pd.to_datetime('2017-05-06')) ),'golden_week']=1"
   ]
  },
  {
   "cell_type": "code",
   "execution_count": 6,
   "metadata": {
    "collapsed": true
   },
   "outputs": [],
   "source": [
    "for name in ['ar','hr']:\n",
    "        \n",
    "    df[name]['visit_datetime'] = pd.to_datetime(df[name]['visit_datetime'])\n",
    "    df[name]['reserve_datetime'] = pd.to_datetime(df[name]['reserve_datetime'])\n",
    "    df[name]['visit_date'] = df[name].visit_datetime.dt.date\n",
    "    df[name]['visit_time'] = df[name].visit_datetime.dt.hour\n",
    "    \n",
    "    df[name]['prior'] = df[name]['visit_datetime'] - df[name]['reserve_datetime']\n",
    "    df[name]['prior'] = df[name].prior/np.timedelta64(1, 'D')\n",
    "\n",
    "    df[name]['dow'] = df[name].visit_datetime.dt.dayofweek\n",
    "    df[name]['month'] = df[name].visit_datetime.dt.month\n",
    "    df[name]['year'] = df[name].visit_datetime.dt.year"
   ]
  },
  {
   "cell_type": "code",
   "execution_count": 7,
   "metadata": {
    "collapsed": true
   },
   "outputs": [],
   "source": [
    "for name in ['test','train']:\n",
    "    df[name]=df[name].join(df['date_info'][['calendar_date','holiday_flg','free_period']].rename(columns={'calendar_date':'visit_date'}).set_index('visit_date'),on='visit_date')\n",
    "    df[name]['visit_date'] = pd.to_datetime(df[name]['visit_date'])\n",
    "\n",
    "    df[name]['dow'] = df[name].visit_date.dt.dayofweek\n",
    "    df[name]['month'] = df[name].visit_date.dt.month\n",
    "    df[name]['quarter'] = df[name].visit_date.dt.quarter\n",
    "    df[name]['year'] = df[name].visit_date.dt.year"
   ]
  },
  {
   "cell_type": "code",
   "execution_count": 8,
   "metadata": {
    "collapsed": true
   },
   "outputs": [],
   "source": [
    "df['ar']['ar']=1\n",
    "df['hr']['ar']=0"
   ]
  },
  {
   "cell_type": "markdown",
   "metadata": {},
   "source": [
    "# Reserver's behaviour\n",
    "\n",
    "Understanding each restaurant's visitors' reserving behaviour"
   ]
  },
  {
   "cell_type": "code",
   "execution_count": 9,
   "metadata": {
    "collapsed": true
   },
   "outputs": [],
   "source": [
    "df['all_res']=pd.concat([df['ar'],df['hr']],axis=0)"
   ]
  },
  {
   "cell_type": "code",
   "execution_count": 10,
   "metadata": {
    "collapsed": true
   },
   "outputs": [],
   "source": [
    "total_reserves = df['all_res'].groupby(['air_store_id','visit_date']).sum()[['reserve_visitors']]\n",
    "mean = df['all_res'].groupby(['air_store_id','visit_date']).mean()[['reserve_visitors']].rename(columns={'reserve_visitors':'reserve_visitors_mean'})\n",
    "median = df['all_res'].groupby(['air_store_id','visit_date']).median()[['reserve_visitors','prior']].rename(columns={'reserve_visitors':'reserve_visitors_median','prior':'prior_median'})\n",
    "_max = df['all_res'].groupby(['air_store_id','visit_date']).max()[['reserve_visitors','prior']].rename(columns={'reserve_visitors':'reserve_visitors_max','prior':'prior_max'})\n",
    "count = pd.DataFrame(df['all_res'].groupby(['air_store_id','visit_date']).size()).rename(columns={0:'reserve_count'})\n",
    "air_prop = df['all_res'].groupby(['air_store_id','visit_date']).mean()[['ar']].rename(columns={'ar':'air_prop'})\n",
    "\n",
    "\n",
    "df['res']=total_reserves.reset_index()\n",
    "\n",
    "df['res' ]=df['res' ].join(mean,on=['air_store_id','visit_date'])\n",
    "df['res' ]=df['res' ].join(median,on=['air_store_id','visit_date'])\n",
    "df['res' ]=df['res' ].join(_max,on=['air_store_id','visit_date'])\n",
    "df['res' ]=df['res' ].join(count,on=['air_store_id','visit_date'])\n",
    "df['res' ]=df['res' ].join(air_prop,on=['air_store_id','visit_date'])\n",
    "\n",
    "df['res']['visit_date'] = pd.to_datetime(df['res']['visit_date'])\n",
    "df['res' ]=df['res' ].set_index(['air_store_id','visit_date'])"
   ]
  },
  {
   "cell_type": "code",
   "execution_count": 11,
   "metadata": {
    "collapsed": true
   },
   "outputs": [],
   "source": [
    "df['train']=df['train'].join(df['res'],on=['air_store_id','visit_date']).fillna(0)"
   ]
  },
  {
   "cell_type": "code",
   "execution_count": 12,
   "metadata": {
    "collapsed": true
   },
   "outputs": [],
   "source": [
    "df['train']['res_prop'] = df['train'].reserve_visitors / df['train'].visitors"
   ]
  },
  {
   "cell_type": "markdown",
   "metadata": {},
   "source": [
    "# Profiling Restaurants by visits"
   ]
  },
  {
   "cell_type": "code",
   "execution_count": 13,
   "metadata": {
    "collapsed": true
   },
   "outputs": [],
   "source": [
    "tmp = df['train'].loc[df['train'].holiday_flg==0].groupby(['air_store_id','dow']).agg({'visitors' : [np.min,np.mean,np.median,np.max,np.size,np.std]}).reset_index()\n",
    "tmp.columns = ['air_store_id', 'dow', 'min_visitors', 'mean_visitors', 'median_visitors','max_visitors','count_observations','std_visitors']"
   ]
  },
  {
   "cell_type": "code",
   "execution_count": 14,
   "metadata": {
    "collapsed": true
   },
   "outputs": [],
   "source": [
    "rmp = df['train'][df['train'].reserve_visitors_mean!=0].groupby(['air_store_id','dow']).agg({'reserve_visitors':np.median, 'res_prop':np.mean, 'air_prop':np.median,'reserve_count':np.sum})\n",
    "rmp.columns = ['median_reserve_visitors_median','mean_res_prop','median_air_prop','total_reserve_count']"
   ]
  },
  {
   "cell_type": "code",
   "execution_count": 15,
   "metadata": {
    "collapsed": true
   },
   "outputs": [],
   "source": [
    "pmp = df['all_res'].groupby(['air_store_id','dow']).agg({'prior':np.mean,'visit_time':lambda x:x.value_counts().index[0]})\n",
    "df['all_res'].visit_time=df['all_res'].visit_time.map({5:5,6:6,7:7,8:8,9:9,10:10,11:11,12:12,13:13,14:14,15:15,16:16,17:17,18:18,19:19,20:20,21:21,22:22,23:23,0:24,1:25,2:26,3:27,4:28})\n",
    "\n",
    "pmp.columns = ['mean_prior','freq_visit_time']"
   ]
  },
  {
   "cell_type": "code",
   "execution_count": 16,
   "metadata": {
    "collapsed": true
   },
   "outputs": [],
   "source": [
    "cols=['0_shar','1_share','2_share','3_share','4_share','5_share','6_share']\n",
    "for c in cols:\n",
    "    tmp[c]=0"
   ]
  },
  {
   "cell_type": "code",
   "execution_count": 17,
   "metadata": {
    "collapsed": true
   },
   "outputs": [],
   "source": [
    "for i,row in tmp.groupby('air_store_id').sum().iterrows():\n",
    "    for c in range(len(cols)):\n",
    "        cond = (tmp.air_store_id==i) & (tmp.dow == c)\n",
    "        if len(tmp.loc[cond])>0:\n",
    "            tmp.loc[tmp.air_store_id==i,cols[c]]=tmp.loc[cond,'mean_visitors'].iloc[0]/row.mean_visitors"
   ]
  },
  {
   "cell_type": "markdown",
   "metadata": {},
   "source": [
    "# Working with Categorical attributes"
   ]
  },
  {
   "cell_type": "code",
   "execution_count": 18,
   "metadata": {
    "collapsed": true
   },
   "outputs": [],
   "source": [
    "for name in ['train','test']:\n",
    "    df[name]=df[name].join(df['ar_i'].set_index('air_store_id'),on='air_store_id')\n"
   ]
  },
  {
   "cell_type": "code",
   "execution_count": 19,
   "metadata": {
    "collapsed": true
   },
   "outputs": [],
   "source": [
    "lbl = preprocessing.LabelEncoder()\n",
    "\n",
    "for name in ['train','test']:\n",
    "    df[name]=df[name].join(tmp.set_index(['air_store_id','dow']),on=['air_store_id','dow'])\n",
    "    df[name]=df[name].join(rmp,on=['air_store_id','dow'])\n",
    "    df[name]=df[name].join(pmp,on=['air_store_id','dow'])\n",
    "    \n",
    "    df[name]['date_int'] = df[name]['visit_date'].apply(lambda x: x.strftime('%Y%m%d')).astype(int)\n",
    "    \n",
    "    \n",
    "    market_competitors=pd.DataFrame(df['train'].groupby(['year','month','air_genre_name','air_area_name']).size()).rename(columns={0:'competitors'})\n",
    "    market_competitors.reset_index(inplace=True)\n",
    "    market_competitors.competitors-=1\n",
    "    market_competitors.month+=1\n",
    "    market_competitors.loc[market_competitors.month==13,'year']=2017\n",
    "    market_competitors.loc[market_competitors.month==13,'month']=1\n",
    "    market_competitors.set_index(['year','month','air_genre_name','air_area_name'],inplace=True)\n",
    "                                     \n",
    "    df[name]=df[name].join(market_competitors,on=['year','month','air_genre_name','air_area_name'])\n",
    "    df[name]=df[name].fillna(-999)"
   ]
  },
  {
   "cell_type": "markdown",
   "metadata": {},
   "source": [
    "# Trends"
   ]
  },
  {
   "cell_type": "code",
   "execution_count": 20,
   "metadata": {
    "collapsed": true
   },
   "outputs": [],
   "source": [
    "# A bit ugly\n",
    "def resto_prev_grouth(data):\n",
    "    for period in ['month','quarter']:           \n",
    "                data = data.join(data.groupby(['year',period,'air_genre_name','air_area_name']).sum()[['visitors']].rename(columns={'visitors':period+'ly_market_visits'}),['year',period,'air_genre_name','air_area_name'])\n",
    "                data = data.join(data.groupby(['year',period,'air_store_id']).sum()[['visitors']].rename(columns={'visitors':period+'ly_store_visits'}),['year',period,'air_store_id'])\n",
    "                data[period+'ly_store_market_share']=data[period+'ly_store_visits']/data[period+'ly_market_visits']\n",
    "                \n",
    "                df['train'].loc[df['train'].reserve_visitors>0].groupby(['air_store_id','month']).sum()[['reserve_count']]\n",
    "                \n",
    "                v=data.groupby(['air_store_id','year',period]).mean()\n",
    "                \n",
    "                new_feature=period+'ly_market_share_growth'\n",
    "                new_feature2=period+'ly_new_competitors'\n",
    "                \n",
    "                v[new_feature] = -999\n",
    "\n",
    "                store = np.nan\n",
    "                prev_prev_quarter = np.nan\n",
    "                prev_quarter = np.nan\n",
    "                \n",
    "                prev_prev_compet = np.nan\n",
    "                prev_compet = np.nan\n",
    "\n",
    "                for i,row in v.iterrows():\n",
    "                    if i[0] == store and not np.isnan(prev_prev_quarter):\n",
    "                        v.loc[i,new_feature] = prev_quarter/prev_prev_quarter\n",
    "                        v.loc[i,new_feature2] = prev_compet/prev_prev_compet\n",
    "                    else:\n",
    "                        prev_prev_quarter = np.nan\n",
    "                        prev_prev_compet = np.nan\n",
    "\n",
    "                    prev_prev_quarter = prev_quarter\n",
    "                    prev_prev_compet = prev_compet\n",
    "                    \n",
    "                    prev_quarter = row[period+'ly_store_market_share']\n",
    "                    prev_compet = row['competitors']\n",
    "                    \n",
    "                    store = i[0]\n",
    "\n",
    "                df['train']=df['train'].join(v[[new_feature2,new_feature,period+'ly_store_market_share']],on=['air_store_id','year',period])\n",
    "                df['test']=df['test'].join(v[[new_feature2,new_feature,period+'ly_store_market_share']],on=['air_store_id','year',period])\n",
    "                \n",
    "                feature_name.append(new_feature)\n",
    "                feature_name.append(new_feature2)\n",
    "                feature_name.append(period+'ly_store_market_share')"
   ]
  },
  {
   "cell_type": "markdown",
   "metadata": {},
   "source": [
    "# Training"
   ]
  },
  {
   "cell_type": "code",
   "execution_count": 21,
   "metadata": {
    "collapsed": true
   },
   "outputs": [],
   "source": [
    "def finalize_test_data(pred):\n",
    "    \n",
    "    df['test']['visitors'] = pred\n",
    "    data = pd.concat([df['train'],df['test']],axis=0)\n",
    "    resto_prev_grouth(data)\n",
    "    \n",
    "    df['test']['visitors'] = 0"
   ]
  },
  {
   "cell_type": "code",
   "execution_count": 22,
   "metadata": {
    "collapsed": true
   },
   "outputs": [],
   "source": [
    "value_feature_name=['date_int','avg_temperature',\n",
    "       'precipitation', 'hours_sunlight', 'avg_wind_speed', 'holiday_flg',\n",
    "       '1_share','2_share','3_share','4_share','5_share','6_share','count_observations',\n",
    "        'mean_res_prop','freq_visit_time','mean_prior','competitors', 'free_period']\n",
    "categ_feature=['dow', 'month', 'air_genre_name', 'air_area_name']\n",
    "\n",
    "feature_name=value_feature_name+categ_feature"
   ]
  },
  {
   "cell_type": "code",
   "execution_count": null,
   "metadata": {
    "collapsed": true
   },
   "outputs": [],
   "source": [
    "params = {\n",
    "    'objective': 'regression',\n",
    "    'metric': 'rmse',\n",
    "    'num_leaves': 105,\n",
    "    'learning_rate': 0.005,\n",
    "    'feature_fraction': 0.68,\n",
    "    'bagging_fraction': 0.85,\n",
    "    'bagging_freq': 2,\n",
    "    'min_data_in_leaf':30,\n",
    "    'lambda_l2':0.3,\n",
    "    'max_depth':17,\n",
    "}\n",
    "K = 5\n",
    "kf = KFold(n_splits = K, random_state = 3228,shuffle=True)\n",
    "iteration=0\n",
    "\n",
    "for train_index, test_index in kf.split(df['train']):\n",
    "    print('Iteration: ',iteration)\n",
    "    final_data = df['train'][['visitors']+feature_name]\n",
    "    final_data['visitors'] = np.log1p(final_data['visitors'])\n",
    "    test_data = df['test'][feature_name]\n",
    "    \n",
    "    ctrain_data = final_data.loc[train_index]\n",
    "    ctest_data = final_data.loc[test_index]\n",
    "    X_train=ctrain_data.drop('visitors',axis=1)\n",
    "    y_train= ctrain_data.visitors\n",
    "    X_test=ctest_data.drop('visitors',axis=1)\n",
    "    y_test=ctest_data.visitors\n",
    "    \n",
    "    lgb_train = lgb.Dataset(X_train, y_train)\n",
    "    lgb_eval = lgb.Dataset(X_test, y_test, reference=lgb_train)\n",
    "    \n",
    "    gbm = lgb.train(params,lgb_train,num_boost_round=19000,valid_sets=lgb_eval,early_stopping_rounds=15,feature_name=feature_name,categorical_feature=categ_feature)\n",
    "    pred = np.expm1(gbm.predict(test_data))\n",
    "    \n",
    "    if iteration == 0:\n",
    "        finalize_test_data(pred) \n",
    "    \n",
    "    df['test']['visitors'] = df['test']['visitors'] + pred/K\n",
    "    \n",
    "    iteration +=1"
   ]
  },
  {
   "cell_type": "markdown",
   "metadata": {},
   "source": [
    "# Result"
   ]
  },
  {
   "cell_type": "code",
   "execution_count": 24,
   "metadata": {},
   "outputs": [
    {
     "data": {
      "image/png": "[encoded data removed]",
      "text/plain": [
       "<matplotlib.figure.Figure at 0x7fc945c98b38>"
      ]
     },
     "metadata": {},
     "output_type": "display_data"
    }
   ],
   "source": [
    "ax = lgb.plot_importance(gbm, max_num_features=34,figsize=(18,18))\n",
    "plt.show()"
   ]
  },
  {
   "cell_type": "code",
   "execution_count": 25,
   "metadata": {
    "collapsed": true
   },
   "outputs": [],
   "source": [
    "df['test'][['id','visitors']].to_csv('new_submission_17.csv', index=False)"
   ]
  }
 ],
 "metadata": {
  "kernelspec": {
   "display_name": "Python 3",
   "language": "python",
   "name": "python3"
  },
  "language_info": {
   "codemirror_mode": {
    "name": "ipython",
    "version": 3
   },
   "file_extension": ".py",
   "mimetype": "text/x-python",
   "name": "python",
   "nbconvert_exporter": "python",
   "pygments_lexer": "ipython3",
   "version": "3.5.3"
  }
 },
 "nbformat": 4,
 "nbformat_minor": 2
}
